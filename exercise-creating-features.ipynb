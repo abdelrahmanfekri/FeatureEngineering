{
 "cells": [
  {
   "cell_type": "markdown",
   "id": "9ef661ce",
   "metadata": {
    "papermill": {
     "duration": 0.006559,
     "end_time": "2023-02-27T14:10:10.472251",
     "exception": false,
     "start_time": "2023-02-27T14:10:10.465692",
     "status": "completed"
    },
    "tags": []
   },
   "source": [
    "**This notebook is an exercise in the [Feature Engineering](https://www.kaggle.com/learn/feature-engineering) course.  You can reference the tutorial at [this link](https://www.kaggle.com/ryanholbrook/creating-features).**\n",
    "\n",
    "---\n"
   ]
  },
  {
   "cell_type": "markdown",
   "id": "d44cf80f",
   "metadata": {
    "papermill": {
     "duration": 0.005204,
     "end_time": "2023-02-27T14:10:10.483102",
     "exception": false,
     "start_time": "2023-02-27T14:10:10.477898",
     "status": "completed"
    },
    "tags": []
   },
   "source": [
    "# Introduction #\n",
    "\n",
    "In this exercise you'll start developing the features you identified in Exercise 2 as having the most potential. As you work through this exercise, you might take a moment to look at the data documentation again and consider whether the features we're creating make sense from a real-world perspective, and whether there are any useful combinations that stand out to you.\n",
    "\n",
    "Run this cell to set everything up!"
   ]
  },
  {
   "cell_type": "code",
   "execution_count": 1,
   "id": "f64b4711",
   "metadata": {
    "execution": {
     "iopub.execute_input": "2023-02-27T14:10:10.496350Z",
     "iopub.status.busy": "2023-02-27T14:10:10.495726Z",
     "iopub.status.idle": "2023-02-27T14:10:11.739834Z",
     "shell.execute_reply": "2023-02-27T14:10:11.738634Z"
    },
    "papermill": {
     "duration": 1.254462,
     "end_time": "2023-02-27T14:10:11.743067",
     "exception": false,
     "start_time": "2023-02-27T14:10:10.488605",
     "status": "completed"
    },
    "tags": []
   },
   "outputs": [],
   "source": [
    "# Setup feedback system\n",
    "from learntools.core import binder\n",
    "binder.bind(globals())\n",
    "from learntools.feature_engineering_new.ex3 import *\n",
    "\n",
    "import numpy as np\n",
    "import pandas as pd\n",
    "from sklearn.model_selection import cross_val_score\n",
    "from xgboost import XGBRegressor\n",
    "\n",
    "\n",
    "def score_dataset(X, y, model=XGBRegressor()):\n",
    "    # Label encoding for categoricals\n",
    "    for colname in X.select_dtypes([\"category\", \"object\"]):\n",
    "        X[colname], _ = X[colname].factorize()\n",
    "    # Metric for Housing competition is RMSLE (Root Mean Squared Log Error)\n",
    "    score = cross_val_score(\n",
    "        model, X, y, cv=5, scoring=\"neg_mean_squared_log_error\",\n",
    "    )\n",
    "    score = -1 * score.mean()\n",
    "    score = np.sqrt(score)\n",
    "    return score\n",
    "\n",
    "\n",
    "# Prepare data\n",
    "df = pd.read_csv(\"../input/fe-course-data/ames.csv\")\n",
    "X = df.copy()\n",
    "y = X.pop(\"SalePrice\")"
   ]
  },
  {
   "cell_type": "markdown",
   "id": "92b1648c",
   "metadata": {
    "papermill": {
     "duration": 0.005703,
     "end_time": "2023-02-27T14:10:11.754496",
     "exception": false,
     "start_time": "2023-02-27T14:10:11.748793",
     "status": "completed"
    },
    "tags": []
   },
   "source": [
    "-------------------------------------------------------------------------------\n",
    "\n",
    "Let's start with a few mathematical combinations. We'll focus on features describing areas -- having the same units (square-feet) makes it easy to combine them in sensible ways. Since we're using XGBoost (a tree-based model), we'll focus on ratios and sums.\n",
    "\n",
    "# 1) Create Mathematical Transforms\n",
    "\n",
    "Create the following features:\n",
    "\n",
    "- `LivLotRatio`: the ratio of `GrLivArea` to `LotArea`\n",
    "- `Spaciousness`: the sum of `FirstFlrSF` and `SecondFlrSF` divided by `TotRmsAbvGrd`\n",
    "- `TotalOutsideSF`: the sum of `WoodDeckSF`, `OpenPorchSF`, `EnclosedPorch`, `Threeseasonporch`, and `ScreenPorch`"
   ]
  },
  {
   "cell_type": "code",
   "execution_count": 2,
   "id": "7cad21df",
   "metadata": {
    "execution": {
     "iopub.execute_input": "2023-02-27T14:10:11.767468Z",
     "iopub.status.busy": "2023-02-27T14:10:11.767041Z",
     "iopub.status.idle": "2023-02-27T14:10:11.793136Z",
     "shell.execute_reply": "2023-02-27T14:10:11.791846Z"
    },
    "lines_to_next_cell": 0,
    "papermill": {
     "duration": 0.035441,
     "end_time": "2023-02-27T14:10:11.795506",
     "exception": false,
     "start_time": "2023-02-27T14:10:11.760065",
     "status": "completed"
    },
    "tags": []
   },
   "outputs": [
    {
     "data": {
      "application/javascript": [
       "parent.postMessage({\"jupyterEvent\": \"custom.exercise_interaction\", \"data\": {\"outcomeType\": 1, \"valueTowardsCompletion\": 0.2, \"interactionType\": 1, \"questionType\": 2, \"questionId\": \"1_Q1\", \"learnToolsVersion\": \"0.3.4\", \"failureMessage\": \"\", \"exceptionClass\": \"\", \"trace\": \"\"}}, \"*\")"
      ],
      "text/plain": [
       "<IPython.core.display.Javascript object>"
      ]
     },
     "metadata": {},
     "output_type": "display_data"
    },
    {
     "data": {
      "text/markdown": [
       "<span style=\"color:#33cc33\">Correct</span>"
      ],
      "text/plain": [
       "Correct"
      ]
     },
     "metadata": {},
     "output_type": "display_data"
    }
   ],
   "source": [
    "# YOUR CODE HERE\n",
    "X_1 = pd.DataFrame()  # dataframe to hold new features\n",
    "\n",
    "X_1[\"LivLotRatio\"] = X[\"GrLivArea\"]/X[\"LotArea\"]\n",
    "X_1[\"Spaciousness\"] = (X[\"FirstFlrSF\"]+X[\"SecondFlrSF\"])/X[\"TotRmsAbvGrd\"]\n",
    "X_1[\"TotalOutsideSF\"] = (X[\"WoodDeckSF\"]+X[\"OpenPorchSF\"]+X[\"EnclosedPorch\"]+X[\"Threeseasonporch\"]+X[\"ScreenPorch\"])\n",
    "\n",
    "\n",
    "# Check your answer\n",
    "q_1.check()"
   ]
  },
  {
   "cell_type": "code",
   "execution_count": 3,
   "id": "2827d5e1",
   "metadata": {
    "execution": {
     "iopub.execute_input": "2023-02-27T14:10:11.809374Z",
     "iopub.status.busy": "2023-02-27T14:10:11.808891Z",
     "iopub.status.idle": "2023-02-27T14:10:11.814208Z",
     "shell.execute_reply": "2023-02-27T14:10:11.812893Z"
    },
    "lines_to_next_cell": 0,
    "papermill": {
     "duration": 0.01572,
     "end_time": "2023-02-27T14:10:11.817213",
     "exception": false,
     "start_time": "2023-02-27T14:10:11.801493",
     "status": "completed"
    },
    "tags": []
   },
   "outputs": [],
   "source": [
    "# Lines below will give you a hint or solution code\n",
    "#q_1.hint()\n",
    "#q_1.solution()"
   ]
  },
  {
   "cell_type": "markdown",
   "id": "3ab491c1",
   "metadata": {
    "papermill": {
     "duration": 0.005788,
     "end_time": "2023-02-27T14:10:11.829123",
     "exception": false,
     "start_time": "2023-02-27T14:10:11.823335",
     "status": "completed"
    },
    "tags": []
   },
   "source": [
    "-------------------------------------------------------------------------------\n",
    "\n",
    "If you've discovered an interaction effect between a numeric feature and a categorical feature, you might want to model it explicitly using a one-hot encoding, like so:\n",
    "\n",
    "```\n",
    "# One-hot encode Categorical feature, adding a column prefix \"Cat\"\n",
    "X_new = pd.get_dummies(df.Categorical, prefix=\"Cat\")\n",
    "\n",
    "# Multiply row-by-row\n",
    "X_new = X_new.mul(df.Continuous, axis=0)\n",
    "\n",
    "# Join the new features to the feature set\n",
    "X = X.join(X_new)\n",
    "```\n",
    "\n",
    "# 2) Interaction with a Categorical\n",
    "\n",
    "We discovered an interaction between `BldgType` and `GrLivArea` in Exercise 2. Now create their interaction features."
   ]
  },
  {
   "cell_type": "code",
   "execution_count": 4,
   "id": "26062550",
   "metadata": {
    "execution": {
     "iopub.execute_input": "2023-02-27T14:10:11.842784Z",
     "iopub.status.busy": "2023-02-27T14:10:11.842289Z",
     "iopub.status.idle": "2023-02-27T14:10:11.860168Z",
     "shell.execute_reply": "2023-02-27T14:10:11.858969Z"
    },
    "lines_to_next_cell": 0,
    "papermill": {
     "duration": 0.027792,
     "end_time": "2023-02-27T14:10:11.862761",
     "exception": false,
     "start_time": "2023-02-27T14:10:11.834969",
     "status": "completed"
    },
    "tags": []
   },
   "outputs": [
    {
     "data": {
      "application/javascript": [
       "parent.postMessage({\"jupyterEvent\": \"custom.exercise_interaction\", \"data\": {\"outcomeType\": 1, \"valueTowardsCompletion\": 0.2, \"interactionType\": 1, \"questionType\": 2, \"questionId\": \"2_Q2\", \"learnToolsVersion\": \"0.3.4\", \"failureMessage\": \"\", \"exceptionClass\": \"\", \"trace\": \"\"}}, \"*\")"
      ],
      "text/plain": [
       "<IPython.core.display.Javascript object>"
      ]
     },
     "metadata": {},
     "output_type": "display_data"
    },
    {
     "data": {
      "text/markdown": [
       "<span style=\"color:#33cc33\">Correct</span>"
      ],
      "text/plain": [
       "Correct"
      ]
     },
     "metadata": {},
     "output_type": "display_data"
    }
   ],
   "source": [
    "# YOUR CODE HERE\n",
    "# One-hot encode BldgType. Use `prefix=\"Bldg\"` in `get_dummies`\n",
    "X_2 = pd.get_dummies(df.BldgType, prefix=\"Bldg\") \n",
    "# Multiply\n",
    "X_2 = X_2.mul(df.GrLivArea, axis=0)\n",
    "\n",
    "\n",
    "# Check your answer\n",
    "q_2.check()"
   ]
  },
  {
   "cell_type": "code",
   "execution_count": 5,
   "id": "a9ebff6c",
   "metadata": {
    "execution": {
     "iopub.execute_input": "2023-02-27T14:10:11.877709Z",
     "iopub.status.busy": "2023-02-27T14:10:11.877203Z",
     "iopub.status.idle": "2023-02-27T14:10:11.882916Z",
     "shell.execute_reply": "2023-02-27T14:10:11.881384Z"
    },
    "lines_to_next_cell": 0,
    "papermill": {
     "duration": 0.016139,
     "end_time": "2023-02-27T14:10:11.885267",
     "exception": false,
     "start_time": "2023-02-27T14:10:11.869128",
     "status": "completed"
    },
    "tags": []
   },
   "outputs": [],
   "source": [
    "# Lines below will give you a hint or solution code\n",
    "#q_2.hint()\n",
    "#q_2.solution()"
   ]
  },
  {
   "cell_type": "markdown",
   "id": "8f2a3b42",
   "metadata": {
    "lines_to_next_cell": 0,
    "papermill": {
     "duration": 0.006324,
     "end_time": "2023-02-27T14:10:11.897738",
     "exception": false,
     "start_time": "2023-02-27T14:10:11.891414",
     "status": "completed"
    },
    "tags": []
   },
   "source": [
    "# 3) Count Feature\n",
    "\n",
    "Let's try creating a feature that describes how many kinds of outdoor areas a dwelling has. Create a feature `PorchTypes` that counts how many of the following are greater than 0.0:\n",
    "\n",
    "```\n",
    "WoodDeckSF\n",
    "OpenPorchSF\n",
    "EnclosedPorch\n",
    "Threeseasonporch\n",
    "ScreenPorch\n",
    "```"
   ]
  },
  {
   "cell_type": "code",
   "execution_count": 6,
   "id": "b16faf4a",
   "metadata": {
    "execution": {
     "iopub.execute_input": "2023-02-27T14:10:11.912112Z",
     "iopub.status.busy": "2023-02-27T14:10:11.911223Z",
     "iopub.status.idle": "2023-02-27T14:10:11.945758Z",
     "shell.execute_reply": "2023-02-27T14:10:11.944430Z"
    },
    "lines_to_next_cell": 0,
    "papermill": {
     "duration": 0.044325,
     "end_time": "2023-02-27T14:10:11.948178",
     "exception": false,
     "start_time": "2023-02-27T14:10:11.903853",
     "status": "completed"
    },
    "tags": []
   },
   "outputs": [
    {
     "name": "stdout",
     "output_type": "stream",
     "text": [
      "      PorchTypes\n",
      "0              2\n",
      "1              2\n",
      "2              2\n",
      "3              0\n",
      "4              2\n",
      "...          ...\n",
      "2925           1\n",
      "2926           1\n",
      "2927           2\n",
      "2928           2\n",
      "2929           2\n",
      "\n",
      "[2930 rows x 1 columns]\n"
     ]
    },
    {
     "data": {
      "application/javascript": [
       "parent.postMessage({\"jupyterEvent\": \"custom.exercise_interaction\", \"data\": {\"outcomeType\": 1, \"valueTowardsCompletion\": 0.2, \"interactionType\": 1, \"questionType\": 2, \"questionId\": \"3_Q3\", \"learnToolsVersion\": \"0.3.4\", \"failureMessage\": \"\", \"exceptionClass\": \"\", \"trace\": \"\"}}, \"*\")"
      ],
      "text/plain": [
       "<IPython.core.display.Javascript object>"
      ]
     },
     "metadata": {},
     "output_type": "display_data"
    },
    {
     "data": {
      "text/markdown": [
       "<span style=\"color:#33cc33\">Correct</span>"
      ],
      "text/plain": [
       "Correct"
      ]
     },
     "metadata": {},
     "output_type": "display_data"
    }
   ],
   "source": [
    "X_3 = pd.DataFrame()\n",
    "\n",
    "# YOUR CODE HERE\n",
    "X_3[\"PorchTypes\"] = (X.loc[:,[\"WoodDeckSF\",\"OpenPorchSF\",\"EnclosedPorch\",\"Threeseasonporch\",\"ScreenPorch\"]]).gt(0).sum(axis=1)\n",
    "\n",
    "print(X_3)\n",
    "\n",
    "# Check your answer\n",
    "q_3.check()"
   ]
  },
  {
   "cell_type": "code",
   "execution_count": 7,
   "id": "c9226739",
   "metadata": {
    "execution": {
     "iopub.execute_input": "2023-02-27T14:10:11.963961Z",
     "iopub.status.busy": "2023-02-27T14:10:11.963185Z",
     "iopub.status.idle": "2023-02-27T14:10:11.967694Z",
     "shell.execute_reply": "2023-02-27T14:10:11.966760Z"
    },
    "lines_to_next_cell": 0,
    "papermill": {
     "duration": 0.014198,
     "end_time": "2023-02-27T14:10:11.969939",
     "exception": false,
     "start_time": "2023-02-27T14:10:11.955741",
     "status": "completed"
    },
    "tags": []
   },
   "outputs": [],
   "source": [
    "# Lines below will give you a hint or solution code\n",
    "#q_3.hint()\n",
    "#q_3.solution()"
   ]
  },
  {
   "cell_type": "markdown",
   "id": "e3566c79",
   "metadata": {
    "papermill": {
     "duration": 0.005959,
     "end_time": "2023-02-27T14:10:11.982136",
     "exception": false,
     "start_time": "2023-02-27T14:10:11.976177",
     "status": "completed"
    },
    "tags": []
   },
   "source": [
    "# 4) Break Down a Categorical Feature\n",
    "\n",
    "`MSSubClass` describes the type of a dwelling:"
   ]
  },
  {
   "cell_type": "code",
   "execution_count": 8,
   "id": "ef3f8b87",
   "metadata": {
    "execution": {
     "iopub.execute_input": "2023-02-27T14:10:11.997489Z",
     "iopub.status.busy": "2023-02-27T14:10:11.996282Z",
     "iopub.status.idle": "2023-02-27T14:10:12.004600Z",
     "shell.execute_reply": "2023-02-27T14:10:12.003582Z"
    },
    "papermill": {
     "duration": 0.018518,
     "end_time": "2023-02-27T14:10:12.006927",
     "exception": false,
     "start_time": "2023-02-27T14:10:11.988409",
     "status": "completed"
    },
    "tags": []
   },
   "outputs": [
    {
     "data": {
      "text/plain": [
       "array(['One_Story_1946_and_Newer_All_Styles', 'Two_Story_1946_and_Newer',\n",
       "       'One_Story_PUD_1946_and_Newer',\n",
       "       'One_and_Half_Story_Finished_All_Ages', 'Split_Foyer',\n",
       "       'Two_Story_PUD_1946_and_Newer', 'Split_or_Multilevel',\n",
       "       'One_Story_1945_and_Older', 'Duplex_All_Styles_and_Ages',\n",
       "       'Two_Family_conversion_All_Styles_and_Ages',\n",
       "       'One_and_Half_Story_Unfinished_All_Ages',\n",
       "       'Two_Story_1945_and_Older', 'Two_and_Half_Story_All_Ages',\n",
       "       'One_Story_with_Finished_Attic_All_Ages',\n",
       "       'PUD_Multilevel_Split_Level_Foyer',\n",
       "       'One_and_Half_Story_PUD_All_Ages'], dtype=object)"
      ]
     },
     "execution_count": 8,
     "metadata": {},
     "output_type": "execute_result"
    }
   ],
   "source": [
    "df.MSSubClass.unique()"
   ]
  },
  {
   "cell_type": "markdown",
   "id": "b2c6e804",
   "metadata": {
    "papermill": {
     "duration": 0.006422,
     "end_time": "2023-02-27T14:10:12.020165",
     "exception": false,
     "start_time": "2023-02-27T14:10:12.013743",
     "status": "completed"
    },
    "tags": []
   },
   "source": [
    "You can see that there is a more general categorization described (roughly) by the first word of each category. Create a feature containing only these first words by splitting `MSSubClass` at the first underscore `_`. (Hint: In the `split` method use an argument `n=1`.)"
   ]
  },
  {
   "cell_type": "code",
   "execution_count": 9,
   "id": "72d2e613",
   "metadata": {
    "execution": {
     "iopub.execute_input": "2023-02-27T14:10:12.035678Z",
     "iopub.status.busy": "2023-02-27T14:10:12.034504Z",
     "iopub.status.idle": "2023-02-27T14:10:12.065375Z",
     "shell.execute_reply": "2023-02-27T14:10:12.064005Z"
    },
    "lines_to_next_cell": 0,
    "papermill": {
     "duration": 0.041009,
     "end_time": "2023-02-27T14:10:12.067711",
     "exception": false,
     "start_time": "2023-02-27T14:10:12.026702",
     "status": "completed"
    },
    "tags": []
   },
   "outputs": [
    {
     "data": {
      "application/javascript": [
       "parent.postMessage({\"jupyterEvent\": \"custom.exercise_interaction\", \"data\": {\"outcomeType\": 1, \"valueTowardsCompletion\": 0.2, \"interactionType\": 1, \"questionType\": 2, \"questionId\": \"4_Q4\", \"learnToolsVersion\": \"0.3.4\", \"failureMessage\": \"\", \"exceptionClass\": \"\", \"trace\": \"\"}}, \"*\")"
      ],
      "text/plain": [
       "<IPython.core.display.Javascript object>"
      ]
     },
     "metadata": {},
     "output_type": "display_data"
    },
    {
     "data": {
      "text/markdown": [
       "<span style=\"color:#33cc33\">Correct</span>"
      ],
      "text/plain": [
       "Correct"
      ]
     },
     "metadata": {},
     "output_type": "display_data"
    }
   ],
   "source": [
    "X_4 = pd.DataFrame()\n",
    "\n",
    "# YOUR CODE HERE\n",
    "X_4[\"MSClass\"] = df[\"MSSubClass\"].str.split(\"_\",expand=True)[0]\n",
    "\n",
    "\n",
    "# Check your answer\n",
    "q_4.check()"
   ]
  },
  {
   "cell_type": "code",
   "execution_count": 10,
   "id": "94a97642",
   "metadata": {
    "execution": {
     "iopub.execute_input": "2023-02-27T14:10:12.083541Z",
     "iopub.status.busy": "2023-02-27T14:10:12.082671Z",
     "iopub.status.idle": "2023-02-27T14:10:12.087961Z",
     "shell.execute_reply": "2023-02-27T14:10:12.086963Z"
    },
    "lines_to_next_cell": 0,
    "papermill": {
     "duration": 0.016022,
     "end_time": "2023-02-27T14:10:12.090438",
     "exception": false,
     "start_time": "2023-02-27T14:10:12.074416",
     "status": "completed"
    },
    "tags": []
   },
   "outputs": [],
   "source": [
    "# Lines below will give you a hint or solution code\n",
    "#q_4.hint()\n",
    "#q_4.solution()"
   ]
  },
  {
   "cell_type": "markdown",
   "id": "0b85a50b",
   "metadata": {
    "papermill": {
     "duration": 0.006349,
     "end_time": "2023-02-27T14:10:12.103508",
     "exception": false,
     "start_time": "2023-02-27T14:10:12.097159",
     "status": "completed"
    },
    "tags": []
   },
   "source": [
    "# 5) Use a Grouped Transform\n",
    "\n",
    "The value of a home often depends on how it compares to typical homes in its neighborhood. Create a feature `MedNhbdArea` that describes the *median* of `GrLivArea` grouped on `Neighborhood`."
   ]
  },
  {
   "cell_type": "code",
   "execution_count": 11,
   "id": "25d91547",
   "metadata": {
    "execution": {
     "iopub.execute_input": "2023-02-27T14:10:12.118634Z",
     "iopub.status.busy": "2023-02-27T14:10:12.118203Z",
     "iopub.status.idle": "2023-02-27T14:10:12.141867Z",
     "shell.execute_reply": "2023-02-27T14:10:12.140547Z"
    },
    "lines_to_next_cell": 0,
    "papermill": {
     "duration": 0.034465,
     "end_time": "2023-02-27T14:10:12.144540",
     "exception": false,
     "start_time": "2023-02-27T14:10:12.110075",
     "status": "completed"
    },
    "tags": []
   },
   "outputs": [
    {
     "name": "stdout",
     "output_type": "stream",
     "text": [
      "      MedNhbdArea\n",
      "0          1200.0\n",
      "1          1200.0\n",
      "2          1200.0\n",
      "3          1200.0\n",
      "4          1560.0\n",
      "...           ...\n",
      "2925       1282.0\n",
      "2926       1282.0\n",
      "2927       1282.0\n",
      "2928       1282.0\n",
      "2929       1282.0\n",
      "\n",
      "[2930 rows x 1 columns]\n"
     ]
    },
    {
     "data": {
      "application/javascript": [
       "parent.postMessage({\"jupyterEvent\": \"custom.exercise_interaction\", \"data\": {\"outcomeType\": 1, \"valueTowardsCompletion\": 0.2, \"interactionType\": 1, \"questionType\": 2, \"questionId\": \"5_Q5\", \"learnToolsVersion\": \"0.3.4\", \"failureMessage\": \"\", \"exceptionClass\": \"\", \"trace\": \"\"}}, \"*\")"
      ],
      "text/plain": [
       "<IPython.core.display.Javascript object>"
      ]
     },
     "metadata": {},
     "output_type": "display_data"
    },
    {
     "data": {
      "text/markdown": [
       "<span style=\"color:#33cc33\">Correct</span>"
      ],
      "text/plain": [
       "Correct"
      ]
     },
     "metadata": {},
     "output_type": "display_data"
    }
   ],
   "source": [
    "X_5 = pd.DataFrame()\n",
    "\n",
    "# YOUR CODE HERE\n",
    "X_5[\"MedNhbdArea\"] = df.groupby(\"Neighborhood\")[\"GrLivArea\"].transform(\"median\")\n",
    "\n",
    "print(X_5)\n",
    "# Check your answer\n",
    "q_5.check()"
   ]
  },
  {
   "cell_type": "code",
   "execution_count": 12,
   "id": "5aee03f0",
   "metadata": {
    "execution": {
     "iopub.execute_input": "2023-02-27T14:10:12.160640Z",
     "iopub.status.busy": "2023-02-27T14:10:12.160150Z",
     "iopub.status.idle": "2023-02-27T14:10:12.165571Z",
     "shell.execute_reply": "2023-02-27T14:10:12.164346Z"
    },
    "lines_to_next_cell": 0,
    "papermill": {
     "duration": 0.016368,
     "end_time": "2023-02-27T14:10:12.168029",
     "exception": false,
     "start_time": "2023-02-27T14:10:12.151661",
     "status": "completed"
    },
    "tags": []
   },
   "outputs": [],
   "source": [
    "# Lines below will give you a hint or solution code\n",
    "#q_5.hint()\n",
    "#q_5.solution()"
   ]
  },
  {
   "cell_type": "markdown",
   "id": "876bf231",
   "metadata": {
    "papermill": {
     "duration": 0.006905,
     "end_time": "2023-02-27T14:10:12.182202",
     "exception": false,
     "start_time": "2023-02-27T14:10:12.175297",
     "status": "completed"
    },
    "tags": []
   },
   "source": [
    "Now you've made your first new feature set! If you like, you can run the cell below to score the model with all of your new features added:"
   ]
  },
  {
   "cell_type": "code",
   "execution_count": 13,
   "id": "dffbf42e",
   "metadata": {
    "execution": {
     "iopub.execute_input": "2023-02-27T14:10:12.198583Z",
     "iopub.status.busy": "2023-02-27T14:10:12.197549Z",
     "iopub.status.idle": "2023-02-27T14:10:21.385154Z",
     "shell.execute_reply": "2023-02-27T14:10:21.383898Z"
    },
    "papermill": {
     "duration": 9.198835,
     "end_time": "2023-02-27T14:10:21.388066",
     "exception": false,
     "start_time": "2023-02-27T14:10:12.189231",
     "status": "completed"
    },
    "tags": []
   },
   "outputs": [
    {
     "name": "stdout",
     "output_type": "stream",
     "text": [
      "with new features  0.13847331710099203\n",
      " without  0.14284209506143358\n"
     ]
    }
   ],
   "source": [
    "X_new = X.join([X_1, X_2, X_3, X_4, X_5])\n",
    "print(\"with new features \",score_dataset(X_new, y))\n",
    "print(\" without \",score_dataset(X,y))"
   ]
  },
  {
   "cell_type": "markdown",
   "id": "5febc20a",
   "metadata": {
    "papermill": {
     "duration": 0.007162,
     "end_time": "2023-02-27T14:10:21.404069",
     "exception": false,
     "start_time": "2023-02-27T14:10:21.396907",
     "status": "completed"
    },
    "tags": []
   },
   "source": [
    "# Keep Going #\n",
    "\n",
    "[**Untangle spatial relationships**](https://www.kaggle.com/ryanholbrook/clustering-with-k-means) by adding cluster labels to your dataset."
   ]
  }
 ],
 "metadata": {
  "kernelspec": {
   "display_name": "Python 3",
   "language": "python",
   "name": "python3"
  },
  "language_info": {
   "codemirror_mode": {
    "name": "ipython",
    "version": 3
   },
   "file_extension": ".py",
   "mimetype": "text/x-python",
   "name": "python",
   "nbconvert_exporter": "python",
   "pygments_lexer": "ipython3",
   "version": "3.7.12"
  },
  "papermill": {
   "default_parameters": {},
   "duration": 23.038854,
   "end_time": "2023-02-27T14:10:22.235242",
   "environment_variables": {},
   "exception": null,
   "input_path": "__notebook__.ipynb",
   "output_path": "__notebook__.ipynb",
   "parameters": {},
   "start_time": "2023-02-27T14:09:59.196388",
   "version": "2.4.0"
  }
 },
 "nbformat": 4,
 "nbformat_minor": 5
}
